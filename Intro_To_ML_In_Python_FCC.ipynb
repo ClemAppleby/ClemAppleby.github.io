{
  "nbformat": 4,
  "nbformat_minor": 0,
  "metadata": {
    "colab": {
      "provenance": [],
      "authorship_tag": "ABX9TyPm+BYekd6umZnD7eSDqAgj",
      "include_colab_link": true
    },
    "kernelspec": {
      "name": "python3",
      "display_name": "Python 3"
    },
    "language_info": {
      "name": "python"
    }
  },
  "cells": [
    {
      "cell_type": "markdown",
      "metadata": {
        "id": "view-in-github",
        "colab_type": "text"
      },
      "source": [
        "<a href=\"https://colab.research.google.com/github/ClemAppleby/ClemAppleby.github.io/blob/main/Intro_To_ML_In_Python_FCC.ipynb\" target=\"_parent\"><img src=\"https://colab.research.google.com/assets/colab-badge.svg\" alt=\"Open In Colab\"/></a>"
      ]
    },
    {
      "cell_type": "markdown",
      "source": [
        "FCC TensorFlow 2 Course\n"
      ],
      "metadata": {
        "id": "LH_t1GQcgO45"
      }
    },
    {
      "cell_type": "markdown",
      "source": [
        "Module 1 Notes\n",
        "\n",
        "1. Three main types of ML: Supervised, Unsupervised, Reinforcement.\n",
        "2. Supervised learning is appropriate when we have both labels and features.\n",
        "3. Unsupervised learning is a appropriate when we have only features. Think clustering algorithms etc.\n",
        "4. Reinforcement learning is appropriate when we have neither known features nor known labels. Think agents, environments, and rewards etc.\n"
      ],
      "metadata": {
        "id": "lh949ZzjgW36"
      }
    },
    {
      "cell_type": "markdown",
      "source": [
        "Module 2 Notes\n",
        "  1."
      ],
      "metadata": {
        "id": "fFSPvAUdg-bt"
      }
    },
    {
      "cell_type": "code",
      "source": [],
      "metadata": {
        "id": "gnKH1s3xgUR-"
      },
      "execution_count": null,
      "outputs": []
    }
  ]
}